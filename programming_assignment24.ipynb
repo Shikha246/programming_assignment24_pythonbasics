{
 "cells": [
  {
   "cell_type": "markdown",
   "id": "5758bba0",
   "metadata": {},
   "source": [
    "Question1\n",
    "\n",
    "\n",
    "Create a function that takes an integer and returns a list from 1 to the given number, where:\n",
    "\n",
    "\n",
    "1. If the number can be divided evenly by 4, amplify it by 10 (i.e. return 10 times the\n",
    "number).\n",
    "\n",
    "\n",
    "2. If the number cannot be divided evenly by 4, simply return the number.\n",
    "\n",
    "\n",
    "Examples\n",
    "\n",
    "\n",
    "amplify(4) ➞ [1, 2, 3, 40]\n",
    "\n",
    "\n",
    "amplify(3) ➞ [1, 2, 3]\n",
    "\n",
    "\n",
    "amplify(25) ➞ [1, 2, 3, 40, 5, 6, 7, 80, 9, 10, 11, 120, 13, 14, 15, 160,\n",
    "17, 18, 19, 200, 21, 22, 23, 240, 25]\n",
    "\n",
    "\n",
    "Notes\n",
    "\n",
    "\n",
    " The given integer will always be equal to or greater than 1.\n",
    "\n",
    "\n",
    " Include the number (see example above).\n",
    "\n",
    "\n",
    " To perform this problem with its intended purpose, try doing it with list\n",
    "comprehensions. If that's too difficult, just solve the challenge any way you can."
   ]
  },
  {
   "cell_type": "code",
   "execution_count": 6,
   "id": "3ee8ec97",
   "metadata": {},
   "outputs": [],
   "source": [
    "def amplify(n):\n",
    "    l=[]\n",
    "    for i in range(1,n+1):    \n",
    "        l.append(i)\n",
    "        if i%4==0:\n",
    "            l.remove(i)\n",
    "            l.append(i*10)\n",
    "    return l        "
   ]
  },
  {
   "cell_type": "code",
   "execution_count": 7,
   "id": "4f82557a",
   "metadata": {},
   "outputs": [
    {
     "data": {
      "text/plain": [
       "[1, 2, 3, 40]"
      ]
     },
     "execution_count": 7,
     "metadata": {},
     "output_type": "execute_result"
    }
   ],
   "source": [
    "amplify(4)"
   ]
  },
  {
   "cell_type": "markdown",
   "id": "721fe62b",
   "metadata": {},
   "source": [
    "Question2\n",
    "\n",
    "\n",
    "Create a function that takes a list of numbers and return the number that's unique.\n",
    "\n",
    "\n",
    "Examples\n",
    "\n",
    "\n",
    "unique([3, 3, 3, 7, 3, 3]) ➞ 7\n",
    "\n",
    "\n",
    "unique([0, 0, 0.77, 0, 0]) ➞ 0.77\n",
    "\n",
    "\n",
    "unique([0, 1, 1, 1, 1, 1, 1, 1]) ➞ 0\n",
    "\n",
    "\n",
    "Notes\n",
    "Test cases will always have exactly one unique number while all others are the same."
   ]
  },
  {
   "cell_type": "code",
   "execution_count": 12,
   "id": "728b177b",
   "metadata": {},
   "outputs": [],
   "source": [
    "def unique(l):\n",
    "   \n",
    "    for i in l:\n",
    "        if l.count(i) ==1:\n",
    "            return i"
   ]
  },
  {
   "cell_type": "code",
   "execution_count": 13,
   "id": "8819c5e3",
   "metadata": {},
   "outputs": [
    {
     "data": {
      "text/plain": [
       "0"
      ]
     },
     "execution_count": 13,
     "metadata": {},
     "output_type": "execute_result"
    }
   ],
   "source": [
    "unique([0, 1, 1, 1, 1, 1, 1, 1])"
   ]
  },
  {
   "cell_type": "markdown",
   "id": "6530dd28",
   "metadata": {},
   "source": [
    "Question3\n",
    "\n",
    "\n",
    "Your task is to create a Circle constructor that creates a circle with a radius provided by an\n",
    "argument. The circles constructed must have two getters getArea() (PIr^2) and\n",
    "getPerimeter() (2PI*r) which give both respective areas and perimeter (circumference).\n",
    "\n",
    "\n",
    "For help with this class, I have provided you with a Rectangle constructor which you can use\n",
    "as a base example.\n",
    "\n",
    "\n",
    "Examples\n",
    "\n",
    "\n",
    "circy = Circle(11)\n",
    "\n",
    "\n",
    "circy.getArea()\n",
    "\n",
    "\n",
    "#Should return 380.132711084365\n",
    "\n",
    "\n",
    "circy = Circle(4.44)\n",
    "\n",
    "\n",
    "circy.getPerimeter()\n",
    "\n",
    "\n",
    "#Should return 27.897342763877365\n",
    "\n",
    "\n",
    "Notes\n",
    "Round results up to the nearest integer."
   ]
  },
  {
   "cell_type": "code",
   "execution_count": 20,
   "id": "c37c424e",
   "metadata": {},
   "outputs": [],
   "source": [
    "class Circle:\n",
    "    def __init__(self,radius):\n",
    "        self.radius=radius\n",
    "    def getArea(self):\n",
    "        return round((22/7)*(self.radius**2),2)\n",
    "    def getPerimeter(self):\n",
    "        return round(2*(22/7)*self.radius,2)\n"
   ]
  },
  {
   "cell_type": "code",
   "execution_count": 21,
   "id": "89f8c538",
   "metadata": {},
   "outputs": [
    {
     "data": {
      "text/plain": [
       "380.29"
      ]
     },
     "execution_count": 21,
     "metadata": {},
     "output_type": "execute_result"
    }
   ],
   "source": [
    "circy=Circle(11)\n",
    "circy.getArea()"
   ]
  },
  {
   "cell_type": "code",
   "execution_count": 22,
   "id": "c6ebd73c",
   "metadata": {},
   "outputs": [
    {
     "data": {
      "text/plain": [
       "27.91"
      ]
     },
     "execution_count": 22,
     "metadata": {},
     "output_type": "execute_result"
    }
   ],
   "source": [
    "circy = Circle(4.44)\n",
    "\n",
    "circy.getPerimeter()"
   ]
  },
  {
   "cell_type": "markdown",
   "id": "c82873e6",
   "metadata": {},
   "source": [
    "Question4\n",
    "\n",
    "\n",
    "Create a function that takes a list of strings and return a list, sorted from shortest to longest.\n",
    "\n",
    "\n",
    "Examples\n",
    "\n",
    "\n",
    "sort_by_length([\"Google\", \"Apple\", \"Microsoft\"])\n",
    "➞ [\"Apple\", \"Google\", \"Microsoft\"]\n",
    "\n",
    "\n",
    "sort_by_length([\"Leonardo\", \"Michelangelo\", \"Raphael\", \"Donatello\"])\n",
    "➞ [\"Raphael\", \"Leonardo\", \"Donatello\", \"Michelangelo\"]\n",
    "\n",
    "\n",
    "sort_by_length([\"Turing\", \"Einstein\", \"Jung\"])\n",
    "➞ [\"Jung\", \"Turing\", \"Einstein\"]\n",
    "\n",
    "\n",
    "Notes\n",
    "\n",
    "\n",
    "All test cases contain lists with strings of different lengths, so you won&#39;t have to deal with\n",
    "multiple strings of the same length."
   ]
  },
  {
   "cell_type": "code",
   "execution_count": null,
   "id": "1c926552",
   "metadata": {},
   "outputs": [],
   "source": []
  },
  {
   "cell_type": "code",
   "execution_count": null,
   "id": "543bfb49",
   "metadata": {},
   "outputs": [],
   "source": []
  },
  {
   "cell_type": "code",
   "execution_count": 7,
   "id": "b67cca15",
   "metadata": {},
   "outputs": [
    {
     "name": "stdout",
     "output_type": "stream",
     "text": [
      "['amy', 'rohan', 'sapna', 'aakash', 'raunak', 'chinmoy', 'muhammad']\n"
     ]
    }
   ],
   "source": [
    "def Sorting(lst):\n",
    "    lst2 = sorted(lst, key=len)\n",
    "    return lst2\n",
    "      \n",
    "\n",
    "lst = [\"rohan\", \"amy\", \"sapna\", \"muhammad\", \n",
    "       \"aakash\", \"raunak\", \"chinmoy\"]\n",
    "print(Sorting(lst))"
   ]
  },
  {
   "cell_type": "code",
   "execution_count": 8,
   "id": "3de4e88a",
   "metadata": {},
   "outputs": [
    {
     "name": "stdout",
     "output_type": "stream",
     "text": [
      "['amy', 'rohan', 'sapna', 'aakash', 'raunak', 'chinmoy', 'muhammad']\n"
     ]
    }
   ],
   "source": [
    "def Sorting(lst):\n",
    "    lst.sort(key=len)\n",
    "    return lst\n",
    "      \n",
    "\n",
    "lst = [\"rohan\", \"amy\", \"sapna\", \"muhammad\", \n",
    "       \"aakash\", \"raunak\", \"chinmoy\"]\n",
    "print(Sorting(lst))"
   ]
  },
  {
   "cell_type": "code",
   "execution_count": 9,
   "id": "b9d26b47",
   "metadata": {},
   "outputs": [
    {
     "name": "stdout",
     "output_type": "stream",
     "text": [
      "['VW', 'BMW', 'Ford', 'Mitsubishi']\n"
     ]
    }
   ],
   "source": [
    "def myFunc(e):\n",
    "  return len(e)\n",
    "\n",
    "cars = ['Ford', 'Mitsubishi', 'BMW', 'VW']\n",
    "\n",
    "cars.sort(key=myFunc)\n",
    "\n",
    "print(cars)\n"
   ]
  },
  {
   "cell_type": "markdown",
   "id": "250995b6",
   "metadata": {},
   "source": [
    "Question5\n",
    "\n",
    "\n",
    "Create a function that validates whether three given integers form a Pythagorean triplet. The\n",
    "sum of the squares of the two smallest integers must equal the square of the largest number to\n",
    "be validated.\n",
    "\n",
    "\n",
    "\n",
    "Examples\n",
    "\n",
    "\n",
    "is_triplet(3, 4, 5) ➞ True\n",
    "\n",
    "\n",
    "#3² + 4² = 25\n",
    "\n",
    "\n",
    "#5² = 25\n",
    "\n",
    "\n",
    "is_triplet(13, 5, 12) ➞ True\n",
    "\n",
    "\n",
    "#5² + 12² = 169\n",
    "\n",
    "\n",
    "#13² = 169\n",
    "\n",
    "\n",
    "is_triplet(1, 2, 3) ➞ False\n",
    "\n",
    "\n",
    "#1² + 2² = 5\n",
    "\n",
    "\n",
    "#3² = 9\n",
    "\n",
    "\n",
    "Notes\n",
    "\n",
    "\n",
    "Numbers may not be given in a sorted order."
   ]
  },
  {
   "cell_type": "code",
   "execution_count": 11,
   "id": "4f90cea8",
   "metadata": {},
   "outputs": [],
   "source": [
    "\n",
    "def is_triplet(a,b,c):\n",
    "\n",
    "    if a>b and a > c:\n",
    "        maxnum=a\n",
    "        min1=b\n",
    "        min2=c\n",
    "    elif b>a and b> c:\n",
    "        maxnum=b\n",
    "        min1=a\n",
    "        min2=c\n",
    "    elif c>a and c> b:\n",
    "        maxnum=c\n",
    "        min1=a\n",
    "        min2=b\n",
    "        \n",
    "    lhs=(min1**2)+(min2**2)\n",
    "    rhs=maxnum**2\n",
    "    if lhs== rhs:\n",
    "        return True\n",
    "    else:\n",
    "        return False\n"
   ]
  },
  {
   "cell_type": "code",
   "execution_count": 13,
   "id": "1c57c699",
   "metadata": {},
   "outputs": [
    {
     "data": {
      "text/plain": [
       "True"
      ]
     },
     "execution_count": 13,
     "metadata": {},
     "output_type": "execute_result"
    }
   ],
   "source": [
    "is_triplet(13, 5, 12)"
   ]
  },
  {
   "cell_type": "code",
   "execution_count": null,
   "id": "3cce36c3",
   "metadata": {},
   "outputs": [],
   "source": []
  }
 ],
 "metadata": {
  "kernelspec": {
   "display_name": "Python 3 (ipykernel)",
   "language": "python",
   "name": "python3"
  },
  "language_info": {
   "codemirror_mode": {
    "name": "ipython",
    "version": 3
   },
   "file_extension": ".py",
   "mimetype": "text/x-python",
   "name": "python",
   "nbconvert_exporter": "python",
   "pygments_lexer": "ipython3",
   "version": "3.9.7"
  }
 },
 "nbformat": 4,
 "nbformat_minor": 5
}
